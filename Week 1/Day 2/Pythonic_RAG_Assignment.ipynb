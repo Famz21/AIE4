{
  "cells": [
    {
      "cell_type": "markdown",
      "metadata": {
        "id": "lElF3o5PR6ys"
      },
      "source": [
        "# Your First RAG Application\n",
        "\n",
        "In this notebook, we'll walk you through each of the components that are involved in a simple RAG application.\n",
        "\n",
        "We won't be leveraging any fancy tools, just the OpenAI Python SDK, Numpy, and some classic Python.\n",
        "\n",
        "> NOTE: This was done with Python 3.11.4.\n",
        "\n",
        "> NOTE: There might be [compatibility issues](https://github.com/wandb/wandb/issues/7683) if you're on NVIDIA driver >552.44 As an interim solution - you can rollback your drivers to the 552.44."
      ]
    },
    {
      "cell_type": "markdown",
      "metadata": {
        "id": "5CtcL8P8R6yt"
      },
      "source": [
        "## Table of Contents:\n",
        "\n",
        "- Task 1: Imports and Utilities\n",
        "- Task 2: Documents\n",
        "- Task 3: Embeddings and Vectors\n",
        "- Task 4: Prompts\n",
        "- Task 5: Retrieval Augmented Generation\n",
        "  - 🚧 Activity #1: Augment RAG"
      ]
    },
    {
      "cell_type": "markdown",
      "metadata": {
        "id": "1Dz6GYilR6yt"
      },
      "source": [
        "Let's look at a rather complicated looking visual representation of a basic RAG application.\n",
        "\n",
        "<img src=\"https://i.imgur.com/vD8b016.png\" />"
      ]
    },
    {
      "cell_type": "markdown",
      "metadata": {
        "id": "PjmC0KFtR6yt"
      },
      "source": [
        "## Task 1: Imports and Utility\n",
        "\n",
        "We're just doing some imports and enabling `async` to work within the Jupyter environment here, nothing too crazy!"
      ]
    },
    {
      "cell_type": "code",
      "execution_count": 7,
      "metadata": {
        "colab": {
          "base_uri": "https://localhost:8080/"
        },
        "id": "H7VEzqziR6yt",
        "outputId": "f873dd3b-55a0-4e00-ecf4-e2a0fe3af327"
      },
      "outputs": [],
      "source": [
        "! pip install -qU numpy matplotlib plotly pandas scipy scikit-learn openai python-dotenv"
      ]
    },
    {
      "cell_type": "code",
      "execution_count": 30,
      "metadata": {
        "id": "Z1dyrG4hR6yt"
      },
      "outputs": [],
      "source": [
        "from aimakerspace.text_utils import TextFileLoader, CharacterTextSplitter\n",
        "from aimakerspace.vectordatabase import VectorDatabase\n",
        "import asyncio"
      ]
    },
    {
      "cell_type": "code",
      "execution_count": 31,
      "metadata": {
        "id": "9OrFZRnER6yt"
      },
      "outputs": [],
      "source": [
        "import nest_asyncio\n",
        "nest_asyncio.apply()"
      ]
    },
    {
      "cell_type": "markdown",
      "metadata": {
        "id": "M0jGnpQsR6yu"
      },
      "source": [
        "## Task 2: Documents\n",
        "\n",
        "We'll be concerning ourselves with this part of the flow in the following section:\n",
        "\n",
        "<img src=\"https://i.imgur.com/jTm9gjk.png\" />"
      ]
    },
    {
      "cell_type": "markdown",
      "metadata": {
        "id": "-SFPWvRUR6yu"
      },
      "source": [
        "### Loading Source Documents\n",
        "\n",
        "So, first things first, we need some documents to work with.\n",
        "\n",
        "While we could work directly with the `.txt` files (or whatever file-types you wanted to extend this to) we can instead do some batch processing of those documents at the beginning in order to store them in a more machine compatible format.\n",
        "\n",
        "In this case, we're going to parse our text file into a single document in memory.\n",
        "\n",
        "Let's look at the relevant bits of the `TextFileLoader` class:\n",
        "\n",
        "```python\n",
        "def load_file(self):\n",
        "        with open(self.path, \"r\", encoding=self.encoding) as f:\n",
        "            self.documents.append(f.read())\n",
        "```\n",
        "\n",
        "We're simply loading the document using the built in `open` method, and storing that output in our `self.documents` list.\n"
      ]
    },
    {
      "cell_type": "code",
      "execution_count": 32,
      "metadata": {
        "colab": {
          "base_uri": "https://localhost:8080/"
        },
        "id": "Ia2sUEuGR6yu",
        "outputId": "84937ecc-c35f-4c4a-a4ab-9da72625954c"
      },
      "outputs": [
        {
          "data": {
            "text/plain": [
              "1"
            ]
          },
          "execution_count": 32,
          "metadata": {},
          "output_type": "execute_result"
        }
      ],
      "source": [
        "text_loader = TextFileLoader(\"data/PMarcaBlogs.txt\")\n",
        "documents = text_loader.load_documents()\n",
        "len(documents)"
      ]
    },
    {
      "cell_type": "code",
      "execution_count": 11,
      "metadata": {
        "colab": {
          "base_uri": "https://localhost:8080/"
        },
        "id": "bV-tj5WFR6yu",
        "outputId": "674eb315-1ff3-4597-bcf5-38ece0a812ac"
      },
      "outputs": [
        {
          "name": "stdout",
          "output_type": "stream",
          "text": [
            "\n",
            "The Pmarca Blog Archives\n",
            "(select posts from 2007-2009)\n",
            "Marc Andreessen\n",
            "copyright: Andreessen Horow\n"
          ]
        }
      ],
      "source": [
        "print(documents[0][:100])"
      ]
    },
    {
      "cell_type": "markdown",
      "metadata": {
        "id": "nHlTvCzYR6yu"
      },
      "source": [
        "### Splitting Text Into Chunks\n",
        "\n",
        "As we can see, there is one massive document.\n",
        "\n",
        "We'll want to chunk the document into smaller parts so it's easier to pass the most relevant snippets to the LLM.\n",
        "\n",
        "There is no fixed way to split/chunk documents - and you'll need to rely on some intuition as well as knowing your data *very* well in order to build the most robust system.\n",
        "\n",
        "For this toy example, we'll just split blindly on length.\n",
        "\n",
        ">There's an opportunity to clear up some terminology here, for this course we will be stick to the following:\n",
        ">\n",
        ">- \"source documents\" : The `.txt`, `.pdf`, `.html`, ..., files that make up the files and information we start with in its raw format\n",
        ">- \"document(s)\" : single (or more) text object(s)\n",
        ">- \"corpus\" : the combination of all of our documents"
      ]
    },
    {
      "cell_type": "markdown",
      "metadata": {
        "id": "2G6Voc0jR6yv"
      },
      "source": [
        "As you can imagine (though it's not specifically true in this toy example) the idea of splitting documents is to break them into managable sized chunks that retain the most relevant local context."
      ]
    },
    {
      "cell_type": "code",
      "execution_count": 12,
      "metadata": {
        "colab": {
          "base_uri": "https://localhost:8080/"
        },
        "id": "UMC4tsEmR6yv",
        "outputId": "08689c0b-57cd-4040-942a-8193e997f5cb"
      },
      "outputs": [
        {
          "data": {
            "text/plain": [
              "373"
            ]
          },
          "execution_count": 12,
          "metadata": {},
          "output_type": "execute_result"
        }
      ],
      "source": [
        "text_splitter = CharacterTextSplitter()\n",
        "split_documents = text_splitter.split_texts(documents)\n",
        "len(split_documents)"
      ]
    },
    {
      "cell_type": "markdown",
      "metadata": {
        "id": "W2wKT0WLR6yv"
      },
      "source": [
        "Let's take a look at some of the documents we've managed to split."
      ]
    },
    {
      "cell_type": "code",
      "execution_count": 13,
      "metadata": {
        "colab": {
          "base_uri": "https://localhost:8080/"
        },
        "id": "vcYMwWJoR6yv",
        "outputId": "20d69876-feca-4826-b4be-32915276987a"
      },
      "outputs": [
        {
          "data": {
            "text/plain": [
              "['\\ufeff\\nThe Pmarca Blog Archives\\n(select posts from 2007-2009)\\nMarc Andreessen\\ncopyright: Andreessen Horowitz\\ncover design: Jessica Hagy\\nproduced using: Pressbooks\\nContents\\nTHE PMARCA GUIDE TO STARTUPS\\nPart 1: Why not to do a startup 2\\nPart 2: When the VCs say \"no\" 10\\nPart 3: \"But I don\\'t know any VCs!\" 18\\nPart 4: The only thing that matters 25\\nPart 5: The Moby Dick theory of big companies 33\\nPart 6: How much funding is too little? Too much? 41\\nPart 7: Why a startup\\'s initial business plan doesn\\'t\\nmatter that much\\n49\\nTHE PMARCA GUIDE TO HIRING\\nPart 8: Hiring, managing, promoting, and Dring\\nexecutives\\n54\\nPart 9: How to hire a professional CEO 68\\nHow to hire the best people you\\'ve ever worked\\nwith\\n69\\nTHE PMARCA GUIDE TO BIG COMPANIES\\nPart 1: Turnaround! 82\\nPart 2: Retaining great people 86\\nTHE PMARCA GUIDE TO CAREER, PRODUCTIVITY,\\nAND SOME OTHER THINGS\\nIntroduction 97\\nPart 1: Opportunity 99\\nPart 2: Skills and education 107\\nPart 3: Where to go and why 120\\nThe Pmarca Guide to Personal Productivi']"
            ]
          },
          "execution_count": 13,
          "metadata": {},
          "output_type": "execute_result"
        }
      ],
      "source": [
        "split_documents[0:1]"
      ]
    },
    {
      "cell_type": "markdown",
      "metadata": {
        "id": "HOU-RFP_R6yv"
      },
      "source": [
        "## Task 3: Embeddings and Vectors\n",
        "\n",
        "Next, we have to convert our corpus into a \"machine readable\" format as we explored in the Embedding Primer notebook.\n",
        "\n",
        "Today, we're going to talk about the actual process of creating, and then storing, these embeddings, and how we can leverage that to intelligently add context to our queries."
      ]
    },
    {
      "cell_type": "markdown",
      "metadata": {},
      "source": [
        "### OpenAI API Key\n",
        "\n",
        "In order to access OpenAI's APIs, we'll need to provide our OpenAI API Key!\n",
        "\n",
        "You can work through the folder \"OpenAI API Key Setup\" for more information on this process if you don't already have an API Key!"
      ]
    },
    {
      "cell_type": "code",
      "execution_count": 9,
      "metadata": {},
      "outputs": [],
      "source": [
        "import os\n",
        "import openai\n",
        "from getpass import getpass\n",
        "\n",
        "openai.api_key = getpass(\"OpenAI API Key: \")\n",
        "os.environ[\"OPENAI_API_KEY\"] = openai.api_key"
      ]
    },
    {
      "cell_type": "markdown",
      "metadata": {},
      "source": [
        "### Vector Database\n",
        "\n",
        "Let's set up our vector database to hold all our documents and their embeddings!"
      ]
    },
    {
      "cell_type": "markdown",
      "metadata": {
        "id": "kDQrfAR1R6yv"
      },
      "source": [
        "While this is all baked into 1 call - we can look at some of the code that powers this process to get a better understanding:\n",
        "\n",
        "Let's look at our `VectorDatabase().__init__()`:\n",
        "\n",
        "```python\n",
        "def __init__(self, embedding_model: EmbeddingModel = None):\n",
        "        self.vectors = defaultdict(np.array)\n",
        "        self.embedding_model = embedding_model or EmbeddingModel()\n",
        "```\n",
        "\n",
        "As you can see - our vectors are merely stored as a dictionary of `np.array` objects.\n",
        "\n",
        "Secondly, our `VectorDatabase()` has a default `EmbeddingModel()` which is a wrapper for OpenAI's `text-embedding-3-small` model.\n",
        "\n",
        "> **Quick Info About `text-embedding-3-small`**:\n",
        "> - It has a context window of **8191** tokens\n",
        "> - It returns vectors with dimension **1536**"
      ]
    },
    {
      "cell_type": "markdown",
      "metadata": {
        "id": "L273pRdeR6yv"
      },
      "source": [
        "#### ❓Question #1:\n",
        "\n",
        "The default embedding dimension of `text-embedding-3-small` is 1536, as noted above. \n",
        "\n",
        "1. Is there any way to modify this dimension?\n",
        "2. What technique does OpenAI use to achieve this?\n",
        "\n",
        "> NOTE: Check out this [API documentation](https://platform.openai.com/docs/api-reference/embeddings/create) for the answer to question #1, and [this documentation](https://platform.openai.com/docs/guides/embeddings/use-cases) for an answer to question #2!"
      ]
    },
    {
      "cell_type": "markdown",
      "metadata": {
        "id": "w5FZY7K3R6yv"
      },
      "source": [
        "We can call the `async_get_embeddings` method of our `EmbeddingModel()` on a list of `str` and receive a list of `float` back!\n",
        "\n",
        "```python\n",
        "async def async_get_embeddings(self, list_of_text: List[str]) -> List[List[float]]:\n",
        "        return await aget_embeddings(\n",
        "            list_of_text=list_of_text, engine=self.embeddings_model_name\n",
        "        )\n",
        "```"
      ]
    },
    {
      "cell_type": "markdown",
      "metadata": {
        "id": "cSct6X0aR6yv"
      },
      "source": [
        "We cast those to `np.array` when we build our `VectorDatabase()`:\n",
        "\n",
        "```python\n",
        "async def abuild_from_list(self, list_of_text: List[str]) -> \"VectorDatabase\":\n",
        "        embeddings = await self.embedding_model.async_get_embeddings(list_of_text)\n",
        "        for text, embedding in zip(list_of_text, embeddings):\n",
        "            self.insert(text, np.array(embedding))\n",
        "        return self\n",
        "```\n",
        "\n",
        "And that's all we need to do!"
      ]
    },
    {
      "cell_type": "code",
      "execution_count": 10,
      "metadata": {
        "id": "O4KoLbVDR6yv"
      },
      "outputs": [],
      "source": [
        "vector_db = VectorDatabase()\n",
        "vector_db = asyncio.run(vector_db.abuild_from_list(split_documents))"
      ]
    },
    {
      "cell_type": "markdown",
      "metadata": {
        "id": "SSZwaGvpR6yv"
      },
      "source": [
        "#### ❓Question #2:\n",
        "\n",
        "What are the benefits of using an `async` approach to collecting our embeddings?\n",
        "\n",
        "> NOTE: Determining the core difference between `async` and `sync` will be useful! If you get stuck - ask ChatGPT!"
      ]
    },
    {
      "cell_type": "markdown",
      "metadata": {
        "id": "nRBdIt-xR6yw"
      },
      "source": [
        "So, to review what we've done so far in natural language:\n",
        "\n",
        "1. We load source documents\n",
        "2. We split those source documents into smaller chunks (documents)\n",
        "3. We send each of those documents to the `text-embedding-3-small` OpenAI API endpoint\n",
        "4. We store each of the text representations with the vector representations as keys/values in a dictionary"
      ]
    },
    {
      "cell_type": "markdown",
      "metadata": {
        "id": "4-vWANZyR6yw"
      },
      "source": [
        "### Semantic Similarity\n",
        "\n",
        "The next step is to be able to query our `VectorDatabase()` with a `str` and have it return to us vectors and text that is most relevant from our corpus.\n",
        "\n",
        "We're going to use the following process to achieve this in our toy example:\n",
        "\n",
        "1. We need to embed our query with the same `EmbeddingModel()` as we used to construct our `VectorDatabase()`\n",
        "2. We loop through every vector in our `VectorDatabase()` and use a distance measure to compare how related they are\n",
        "3. We return a list of the top `k` closest vectors, with their text representations\n",
        "\n",
        "There's some very heavy optimization that can be done at each of these steps - but let's just focus on the basic pattern in this notebook.\n",
        "\n",
        "> We are using [cosine similarity](https://www.engati.com/glossary/cosine-similarity) as a distance metric in this example - but there are many many distance metrics you could use - like [these](https://flavien-vidal.medium.com/similarity-distances-for-natural-language-processing-16f63cd5ba55)\n",
        "\n",
        "> We are using a rather inefficient way of calculating relative distance between the query vector and all other vectors - there are more advanced approaches that are much more efficient, like [ANN](https://towardsdatascience.com/comprehensive-guide-to-approximate-nearest-neighbors-algorithms-8b94f057d6b6)"
      ]
    },
    {
      "cell_type": "code",
      "execution_count": 11,
      "metadata": {
        "colab": {
          "base_uri": "https://localhost:8080/"
        },
        "id": "76d96uavR6yw",
        "outputId": "bbfccc31-20a2-41c7-c14d-46554a43ed2d"
      },
      "outputs": [
        {
          "data": {
            "text/plain": [
              "[('ordingly.\\nSeventh, when hiring the executive to run your former specialty, be\\ncareful you don’t hire someone weak on purpose.\\nThis sounds silly, but you wouldn’t believe how oaen it happens.\\nThe CEO who used to be a product manager who has a weak\\nproduct management executive. The CEO who used to be in\\nsales who has a weak sales executive. The CEO who used to be\\nin marketing who has a weak marketing executive.\\nI call this the “Michael Eisner Memorial Weak Executive Problem” — aaer the CEO of Disney who had previously been a brilliant TV network executive. When he bought ABC at Disney, it\\npromptly fell to fourth place. His response? “If I had an extra\\ntwo days a week, I could turn around ABC myself.” Well, guess\\nwhat, he didn’t have an extra two days a week.\\nA CEO — or a startup founder — oaen has a hard time letting\\ngo of the function that brought him to the party. The result: you\\nhire someone weak into the executive role for that function so\\nthat you can continue to be “the man” — cons',\n",
              "  np.float64(0.6539043027545371)),\n",
              " ('m. They have areas where they are truly deXcient in judgment or skill set. That’s just life. Almost nobody is brilliant\\nat everything. When hiring and when Hring executives, you\\nmust therefore focus on strength rather than lack of weakness. Everybody has severe weaknesses even if you can’t see\\nthem yet. When managing, it’s oaen useful to micromanage and\\nto provide remedial training around these weaknesses. Doing so\\nmay make the diWerence between an executive succeeding or\\nfailing.\\nFor example, you might have a brilliant engineering executive\\nwho generates excellent team loyalty, has terriXc product judgment and makes the trains run on time. This same executive\\nmay be very poor at relating to the other functions in the company. She may generate far more than her share of cross-functional conYicts, cut herself oW from critical information, and\\nsigniXcantly impede your ability to sell and market eWectively.\\nYour alternatives are:\\n(a) Macro-manage and give her an annual or quarterly object',\n",
              "  np.float64(0.5036247837648782)),\n",
              " ('ed?\\nIn reality — as opposed to Marc’s warped view of reality — it will\\nbe extremely helpful for Marc [if he were actually the CEO,\\nwhich he is not] to meet with the new head of engineering daily\\nwhen she comes on board and review all of her thinking and\\ndecisions. This level of micromanagement will accelerate her\\ntraining and improve her long-term eWectiveness. It will make\\nher seem smarter to the rest of the organization which will build\\ncredibility and conXdence while she comes up to speed. Micromanaging new executives is generally a good idea for a limited\\nperiod of time.\\nHowever, that is not the only time that it makes sense to micro66 The Pmarca Blog Archives\\nmanage executives. It turns out that just about every executive\\nin the world has a few things that are seriously wrong with\\nthem. They have areas where they are truly deXcient in judgment or skill set. That’s just life. Almost nobody is brilliant\\nat everything. When hiring and when Hring executives, you\\nmust therefore focus o',\n",
              "  np.float64(0.4814861061791066))]"
            ]
          },
          "execution_count": 11,
          "metadata": {},
          "output_type": "execute_result"
        }
      ],
      "source": [
        "vector_db.search_by_text(\"What is the Michael Eisner Memorial Weak Executive Problem?\", k=3)"
      ]
    },
    {
      "cell_type": "code",
      "execution_count": 12,
      "metadata": {},
      "outputs": [
        {
          "data": {
            "text/plain": [
              "[('ordingly.\\nSeventh, when hiring the executive to run your former specialty, be\\ncareful you don’t hire someone weak on purpose.\\nThis sounds silly, but you wouldn’t believe how oaen it happens.\\nThe CEO who used to be a product manager who has a weak\\nproduct management executive. The CEO who used to be in\\nsales who has a weak sales executive. The CEO who used to be\\nin marketing who has a weak marketing executive.\\nI call this the “Michael Eisner Memorial Weak Executive Problem” — aaer the CEO of Disney who had previously been a brilliant TV network executive. When he bought ABC at Disney, it\\npromptly fell to fourth place. His response? “If I had an extra\\ntwo days a week, I could turn around ABC myself.” Well, guess\\nwhat, he didn’t have an extra two days a week.\\nA CEO — or a startup founder — oaen has a hard time letting\\ngo of the function that brought him to the party. The result: you\\nhire someone weak into the executive role for that function so\\nthat you can continue to be “the man” — cons',\n",
              "  np.float64(0.6539043027545371)),\n",
              " ('m. They have areas where they are truly deXcient in judgment or skill set. That’s just life. Almost nobody is brilliant\\nat everything. When hiring and when Hring executives, you\\nmust therefore focus on strength rather than lack of weakness. Everybody has severe weaknesses even if you can’t see\\nthem yet. When managing, it’s oaen useful to micromanage and\\nto provide remedial training around these weaknesses. Doing so\\nmay make the diWerence between an executive succeeding or\\nfailing.\\nFor example, you might have a brilliant engineering executive\\nwho generates excellent team loyalty, has terriXc product judgment and makes the trains run on time. This same executive\\nmay be very poor at relating to the other functions in the company. She may generate far more than her share of cross-functional conYicts, cut herself oW from critical information, and\\nsigniXcantly impede your ability to sell and market eWectively.\\nYour alternatives are:\\n(a) Macro-manage and give her an annual or quarterly object',\n",
              "  np.float64(0.5036247837648782)),\n",
              " ('ed?\\nIn reality — as opposed to Marc’s warped view of reality — it will\\nbe extremely helpful for Marc [if he were actually the CEO,\\nwhich he is not] to meet with the new head of engineering daily\\nwhen she comes on board and review all of her thinking and\\ndecisions. This level of micromanagement will accelerate her\\ntraining and improve her long-term eWectiveness. It will make\\nher seem smarter to the rest of the organization which will build\\ncredibility and conXdence while she comes up to speed. Micromanaging new executives is generally a good idea for a limited\\nperiod of time.\\nHowever, that is not the only time that it makes sense to micro66 The Pmarca Blog Archives\\nmanage executives. It turns out that just about every executive\\nin the world has a few things that are seriously wrong with\\nthem. They have areas where they are truly deXcient in judgment or skill set. That’s just life. Almost nobody is brilliant\\nat everything. When hiring and when Hring executives, you\\nmust therefore focus o',\n",
              "  np.float64(0.4814861061791066)),\n",
              " ('nYicts, cut herself oW from critical information, and\\nsigniXcantly impede your ability to sell and market eWectively.\\nYour alternatives are:\\n(a) Macro-manage and give her an annual or quarterly objective\\nto Xx it, or…\\n(b) Intensively micromanage her interactions until she learns\\nthe fundamental interpersonal skills required to be an eWective\\nexecutive.\\nI am arguing that doing (a) will likely result in weak performance. The reason is that she very likely has no idea how to be\\neWective with her peers. If somebody is an executive, it’s very\\nlikely that somewhere along the line somebody gave her feedback — perhaps abstractly — about all of her weaknesses. Yet\\nthe weakness remains. As a result, executives generally require\\nmore hands-on management than lower level employees to\\nimprove weak areas.\\nSo, micromanagement is like Xne wine. A little at the right times\\nwill really enhance things; too much all the time and you’ll end\\nup in rehab.\\nPart 8: Hiring, managing, promoting, and Dring execut',\n",
              "  np.float64(0.4684350385747078)),\n",
              " ('ummy\\ndecision is no fun to work for. However, it is wrong to condemn\\nthe practice of micromanagement on that basis.\\nPart 8: Hiring, managing, promoting, and Dring executives 65\\nSpeciXcally, there are times and situations where micromanaging executives is not just ok, but also the right thing to do.\\nAndy Grove has an excellent explanation of this in his classic\\nbook High Output Management, where he describes a concept\\ncalled “Task Relevant Maturity”. Andy explains that employees\\nwho are immature in a given task require detailed training and\\ninstruction. They need to be micromanaged. On the other\\nhand, if an employee is relatively mature in a task, then it is\\ncounterproductive and annoying to manage the details of their\\nwork.\\nThis is also true when managing executives. Marc might think\\nthat he hires an executive because she has the experience and\\nknow-how to comprehensively do her job, so any detailed\\ninstruction would be unwise and unwarranted. Marc would be\\nwrong about that. It turns o',\n",
              "  np.float64(0.4637065381943431)),\n",
              " ('tartup, an executive is hired to take over a function that’s\\nalready been started, at least in rudimentary form. The\\npeople in that function should be noticeably better at their\\njobs, and highly respectful of the executive’s skills, within the\\nXrst several months at the very least. If not, you have a\\nproblem.\\n• What do the other executives think?Great executives are oaen\\nimperfect but their peers always respect them. If your other\\nexecutives are skeptical of a new executive aaer the Xrst few\\nmonths, you have a problem.\\n• Is it painful for you to interact with the executive?Do you try to\\navoid or cancel your 1:1’s? Does talking to her give you a\\nheadache? Do you oaen not understand what point she’s\\ntrying to make or why she’s focused on such an odd issue? If\\nthe answer to any of these questions is yes, you have a\\nproblem.\\nThird, Fre crisply.\\nFiring an executive sucks. It’s disruptive to the organization. It\\ncreates a lot of work for you — not least of which is you’ll have\\nto go Xnd some',\n",
              "  np.float64(0.460367560325529)),\n",
              " ('ly cripple her function and sometimes the entire company. Therefore, it is far more important to Fre a bad executive as fast\\nas possible, versus a normal employee.\\nSolution? There isn’t one. It’s a permanent problem.\\nI once asked Andy Grove, one of the world’s all-time best CEOs,\\nabout this. He said, you always Xre a bad executive too late. If\\nyou’re really good, you’ll Xre her about three months too late.\\nBut you’ll always do it too late. If you did it fast enough that it\\nwasn’t too late, you wouldn’t have enough data, and you’d risk\\nbeing viewed as arbitrary and capricious by the rest of the organization.\\nSecond, the minute you have a bad feeling in your gut, start gathering\\ndata.\\nBack to the point on ruthlessly violating the chain of command\\n— get to it. Talk to everyone. Know what’s going on. Unless\\nyou’re paranoid — and, shockingly, I have met paranoid\\nfounders and CEOs, and not counting Andy Grove — you need\\nto gather the data because you’re going to need to Xre the executive — i',\n",
              "  np.float64(0.44624361478292923)),\n",
              " ('e giving her a chance to Xnd a better Xt\\nin a diWerent company where she will be more valued, more\\nrespected, and more successful. This sounds mushy, but I mean\\nit. And if she can’t, then she has a much deeper problem and\\nyou just dodged a huge bullet.\\nAnd on that cheery note, good luck!\\nCounterpoint: Ben Horowitz on\\nmicromanagement\\n[This is a guest post from my business partner Ben Horowitz, reacting\\nto my recent post about hiring, managing, promoting, and Fring executives. I have italicized the parts where he really tears into me for your\\nadded humor value.]\\nWhile I enjoyed Marc’s post on hiring and Xring executives, I\\nthink that he unfairly dissed micromanagement.\\nHere’s why.\\nEveryone knows that the hyper-controlling manager with the\\nsevere personality disorder who micromanages every crummy\\ndecision is no fun to work for. However, it is wrong to condemn\\nthe practice of micromanagement on that basis.\\nPart 8: Hiring, managing, promoting, and Dring executives 65\\nSpeciXcally, there are ',\n",
              "  np.float64(0.4337578859939331)),\n",
              " ('the high potential people apart from everyone\\nelse. That too is lea as an exercise for the reader.\\nFiring\\nFirst, recognize the paradox of deciding to Fre an executive.\\nThe paradox works like this:\\nIt takes time to gather data to evaluate an executive’s performance. You can’t evaluate an executive based on her own output, like a normal employee — you have to evaluate her based\\non the output of her organization. It takes time for her to build\\nand manage her organization to generate output. Therefore, it\\n62 The Pmarca Blog Archives\\ntakes longer to evaluate the performance of an executive than a normal\\nemployee.\\nBut, an executive can cause far more damage than a normal\\nemployee. A normal employee doesn’t work out, Xne, replace\\nhim. An executive doesn’t work out, it can — worst case — permanently cripple her function and sometimes the entire company. Therefore, it is far more important to Fre a bad executive as fast\\nas possible, versus a normal employee.\\nSolution? There isn’t one. It’s a pe',\n",
              "  np.float64(0.4316938525505624)),\n",
              " ('ions is yes, you have a\\nproblem.\\nThird, Fre crisply.\\nFiring an executive sucks. It’s disruptive to the organization. It\\ncreates a lot of work for you — not least of which is you’ll have\\nto go Xnd someone else for the job. And, it risks making you\\nlook bad, since you’re the one who hired the person in the Xrst\\nplace.\\nAnd it always seems to happen at a critical time in your startup’s\\nlife, when the last thing you need is a distraction like this.\\nNevertheless, the only thing to do is do it, do it professionally,\\nmake clear to the organization what will happen next, and get\\non down the road.\\nIn my opinion the two most common mistakes people make\\nwhen they Xre executives both fall in the category of pulling\\none’s punches, and I highly recommend avoiding them:\\n• Long transition periods — tempting, but counterproductive.\\nConfusing, demoralizing, and just plain weird. Instead, make\\na clean break, put a new person in charge — even if only on\\nan acting basis — and get moving.\\n64 The Pmarca Blog ',\n",
              "  np.float64(0.4260292354020154))]"
            ]
          },
          "execution_count": 12,
          "metadata": {},
          "output_type": "execute_result"
        }
      ],
      "source": [
        "vector_db.search_by_text(\"What is the Michael Eisner Memorial Weak Executive Problem?\", k=10)"
      ]
    },
    {
      "cell_type": "code",
      "execution_count": 13,
      "metadata": {},
      "outputs": [
        {
          "data": {
            "text/plain": [
              "[('ordingly.\\nSeventh, when hiring the executive to run your former specialty, be\\ncareful you don’t hire someone weak on purpose.\\nThis sounds silly, but you wouldn’t believe how oaen it happens.\\nThe CEO who used to be a product manager who has a weak\\nproduct management executive. The CEO who used to be in\\nsales who has a weak sales executive. The CEO who used to be\\nin marketing who has a weak marketing executive.\\nI call this the “Michael Eisner Memorial Weak Executive Problem” — aaer the CEO of Disney who had previously been a brilliant TV network executive. When he bought ABC at Disney, it\\npromptly fell to fourth place. His response? “If I had an extra\\ntwo days a week, I could turn around ABC myself.” Well, guess\\nwhat, he didn’t have an extra two days a week.\\nA CEO — or a startup founder — oaen has a hard time letting\\ngo of the function that brought him to the party. The result: you\\nhire someone weak into the executive role for that function so\\nthat you can continue to be “the man” — cons',\n",
              "  np.float64(0.5998095186981967)),\n",
              " ('m. They have areas where they are truly deXcient in judgment or skill set. That’s just life. Almost nobody is brilliant\\nat everything. When hiring and when Hring executives, you\\nmust therefore focus on strength rather than lack of weakness. Everybody has severe weaknesses even if you can’t see\\nthem yet. When managing, it’s oaen useful to micromanage and\\nto provide remedial training around these weaknesses. Doing so\\nmay make the diWerence between an executive succeeding or\\nfailing.\\nFor example, you might have a brilliant engineering executive\\nwho generates excellent team loyalty, has terriXc product judgment and makes the trains run on time. This same executive\\nmay be very poor at relating to the other functions in the company. She may generate far more than her share of cross-functional conYicts, cut herself oW from critical information, and\\nsigniXcantly impede your ability to sell and market eWectively.\\nYour alternatives are:\\n(a) Macro-manage and give her an annual or quarterly object',\n",
              "  np.float64(0.4753565896660618)),\n",
              " ('ed?\\nIn reality — as opposed to Marc’s warped view of reality — it will\\nbe extremely helpful for Marc [if he were actually the CEO,\\nwhich he is not] to meet with the new head of engineering daily\\nwhen she comes on board and review all of her thinking and\\ndecisions. This level of micromanagement will accelerate her\\ntraining and improve her long-term eWectiveness. It will make\\nher seem smarter to the rest of the organization which will build\\ncredibility and conXdence while she comes up to speed. Micromanaging new executives is generally a good idea for a limited\\nperiod of time.\\nHowever, that is not the only time that it makes sense to micro66 The Pmarca Blog Archives\\nmanage executives. It turns out that just about every executive\\nin the world has a few things that are seriously wrong with\\nthem. They have areas where they are truly deXcient in judgment or skill set. That’s just life. Almost nobody is brilliant\\nat everything. When hiring and when Hring executives, you\\nmust therefore focus o',\n",
              "  np.float64(0.46717613849868905))]"
            ]
          },
          "execution_count": 13,
          "metadata": {},
          "output_type": "execute_result"
        }
      ],
      "source": [
        "vector_db.search_by_text(\"What is the Michael Eisner Memorial strong Executive Problem?\", k=3)"
      ]
    },
    {
      "cell_type": "code",
      "execution_count": 14,
      "metadata": {},
      "outputs": [
        {
          "data": {
            "text/plain": [
              "[('ordingly.\\nSeventh, when hiring the executive to run your former specialty, be\\ncareful you don’t hire someone weak on purpose.\\nThis sounds silly, but you wouldn’t believe how oaen it happens.\\nThe CEO who used to be a product manager who has a weak\\nproduct management executive. The CEO who used to be in\\nsales who has a weak sales executive. The CEO who used to be\\nin marketing who has a weak marketing executive.\\nI call this the “Michael Eisner Memorial Weak Executive Problem” — aaer the CEO of Disney who had previously been a brilliant TV network executive. When he bought ABC at Disney, it\\npromptly fell to fourth place. His response? “If I had an extra\\ntwo days a week, I could turn around ABC myself.” Well, guess\\nwhat, he didn’t have an extra two days a week.\\nA CEO — or a startup founder — oaen has a hard time letting\\ngo of the function that brought him to the party. The result: you\\nhire someone weak into the executive role for that function so\\nthat you can continue to be “the man” — cons',\n",
              "  np.float64(0.37066291140869395)),\n",
              " ('ed?\\nIn reality — as opposed to Marc’s warped view of reality — it will\\nbe extremely helpful for Marc [if he were actually the CEO,\\nwhich he is not] to meet with the new head of engineering daily\\nwhen she comes on board and review all of her thinking and\\ndecisions. This level of micromanagement will accelerate her\\ntraining and improve her long-term eWectiveness. It will make\\nher seem smarter to the rest of the organization which will build\\ncredibility and conXdence while she comes up to speed. Micromanaging new executives is generally a good idea for a limited\\nperiod of time.\\nHowever, that is not the only time that it makes sense to micro66 The Pmarca Blog Archives\\nmanage executives. It turns out that just about every executive\\nin the world has a few things that are seriously wrong with\\nthem. They have areas where they are truly deXcient in judgment or skill set. That’s just life. Almost nobody is brilliant\\nat everything. When hiring and when Hring executives, you\\nmust therefore focus o',\n",
              "  np.float64(0.2689689213709047)),\n",
              " ('ersus today, versus 10 years from now? And, my favorite: if the\\ncreators of this industry were starting out today, what would\\nthey be doing now?\\nIn FX’s great new series Damages, a young attorney named Ellen\\nParsons has gone to work for a famous law Xrm called Hewes\\nand Associates, run by the legendary, ruthless, and amoral Patty\\nHewes. Ellen, rattled by the intensity of her experience at Hewes\\nand Associates, asks her mentor Hollis Nye what she should do:\\nHollis Nye: My advice to you, Ellen, is to stop trying to Xgure Patty\\nout. You’ll never change her, but she’ll change you.\\nEllen: How?\\nNye: By giving you access to how she thinks. You signed up for this;\\nnow, keep your head down, and do the work. That’s why you’re\\nthere, isn’t it?\\nEllen: Yes.\\nNye: Then don’t be shortsighted. Start using her. Learn everything\\nyou can, then get the hell out of there before it’s too late.\\nEllen: How exactly will I know when that is?\\nNye: Ah. That’s for another walk.\\n…and another post.\\n126 The Pmarca Blo',\n",
              "  np.float64(0.2661580446097584))]"
            ]
          },
          "execution_count": 14,
          "metadata": {},
          "output_type": "execute_result"
        }
      ],
      "source": [
        "vector_db.search_by_text(\"Who is the Michael Eisner Memorial?\", k=3)"
      ]
    },
    {
      "cell_type": "markdown",
      "metadata": {
        "id": "TehsfIiKR6yw"
      },
      "source": [
        "## Task 4: Prompts\n",
        "\n",
        "In the following section, we'll be looking at the role of prompts - and how they help us to guide our application in the right direction.\n",
        "\n",
        "In this notebook, we're going to rely on the idea of \"zero-shot in-context learning\".\n",
        "\n",
        "This is a lot of words to say: \"We will ask it to perform our desired task in the prompt, and provide no examples.\""
      ]
    },
    {
      "cell_type": "markdown",
      "metadata": {
        "id": "yXpA0UveR6yw"
      },
      "source": [
        "### XYZRolePrompt\n",
        "\n",
        "Before we do that, let's stop and think a bit about how OpenAI's chat models work.\n",
        "\n",
        "We know they have roles - as is indicated in the following API [documentation](https://platform.openai.com/docs/api-reference/chat/create#chat/create-messages)\n",
        "\n",
        "There are three roles, and they function as follows (taken directly from [OpenAI](https://platform.openai.com/docs/guides/gpt/chat-completions-api)):\n",
        "\n",
        "- `{\"role\" : \"system\"}` : The system message helps set the behavior of the assistant. For example, you can modify the personality of the assistant or provide specific instructions about how it should behave throughout the conversation. However note that the system message is optional and the model’s behavior without a system message is likely to be similar to using a generic message such as \"You are a helpful assistant.\"\n",
        "- `{\"role\" : \"user\"}` : The user messages provide requests or comments for the assistant to respond to.\n",
        "- `{\"role\" : \"assistant\"}` : Assistant messages store previous assistant responses, but can also be written by you to give examples of desired behavior.\n",
        "\n",
        "The main idea is this:\n",
        "\n",
        "1. You start with a system message that outlines how the LLM should respond, what kind of behaviours you can expect from it, and more\n",
        "2. Then, you can provide a few examples in the form of \"assistant\"/\"user\" pairs\n",
        "3. Then, you prompt the model with the true \"user\" message.\n",
        "\n",
        "In this example, we'll be forgoing the 2nd step for simplicities sake."
      ]
    },
    {
      "cell_type": "markdown",
      "metadata": {
        "id": "gdZ2KWKSR6yw"
      },
      "source": [
        "#### Utility Functions\n",
        "\n",
        "You'll notice that we're using some utility functions from the `aimakerspace` module - let's take a peek at these and see what they're doing!"
      ]
    },
    {
      "cell_type": "markdown",
      "metadata": {
        "id": "GFbeJDDsR6yw"
      },
      "source": [
        "##### XYZRolePrompt"
      ]
    },
    {
      "cell_type": "markdown",
      "metadata": {
        "id": "5mojJSE3R6yw"
      },
      "source": [
        "Here we have our `system`, `user`, and `assistant` role prompts.\n",
        "\n",
        "Let's take a peek at what they look like:\n",
        "\n",
        "```python\n",
        "class BasePrompt:\n",
        "    def __init__(self, prompt):\n",
        "        \"\"\"\n",
        "        Initializes the BasePrompt object with a prompt template.\n",
        "\n",
        "        :param prompt: A string that can contain placeholders within curly braces\n",
        "        \"\"\"\n",
        "        self.prompt = prompt\n",
        "        self._pattern = re.compile(r\"\\{([^}]+)\\}\")\n",
        "\n",
        "    def format_prompt(self, **kwargs):\n",
        "        \"\"\"\n",
        "        Formats the prompt string using the keyword arguments provided.\n",
        "\n",
        "        :param kwargs: The values to substitute into the prompt string\n",
        "        :return: The formatted prompt string\n",
        "        \"\"\"\n",
        "        matches = self._pattern.findall(self.prompt)\n",
        "        return self.prompt.format(**{match: kwargs.get(match, \"\") for match in matches})\n",
        "\n",
        "    def get_input_variables(self):\n",
        "        \"\"\"\n",
        "        Gets the list of input variable names from the prompt string.\n",
        "\n",
        "        :return: List of input variable names\n",
        "        \"\"\"\n",
        "        return self._pattern.findall(self.prompt)\n",
        "```\n",
        "\n",
        "Then we have our `RolePrompt` which laser focuses us on the role pattern found in most API endpoints for LLMs.\n",
        "\n",
        "```python\n",
        "class RolePrompt(BasePrompt):\n",
        "    def __init__(self, prompt, role: str):\n",
        "        \"\"\"\n",
        "        Initializes the RolePrompt object with a prompt template and a role.\n",
        "\n",
        "        :param prompt: A string that can contain placeholders within curly braces\n",
        "        :param role: The role for the message ('system', 'user', or 'assistant')\n",
        "        \"\"\"\n",
        "        super().__init__(prompt)\n",
        "        self.role = role\n",
        "\n",
        "    def create_message(self, **kwargs):\n",
        "        \"\"\"\n",
        "        Creates a message dictionary with a role and a formatted message.\n",
        "\n",
        "        :param kwargs: The values to substitute into the prompt string\n",
        "        :return: Dictionary containing the role and the formatted message\n",
        "        \"\"\"\n",
        "        return {\"role\": self.role, \"content\": self.format_prompt(**kwargs)}\n",
        "```\n",
        "\n",
        "We'll look at how the `SystemRolePrompt` is constructed to get a better idea of how that extension works:\n",
        "\n",
        "```python\n",
        "class SystemRolePrompt(RolePrompt):\n",
        "    def __init__(self, prompt: str):\n",
        "        super().__init__(prompt, \"system\")\n",
        "```\n",
        "\n",
        "That pattern is repeated for our `UserRolePrompt` and our `AssistantRolePrompt` as well."
      ]
    },
    {
      "cell_type": "markdown",
      "metadata": {
        "id": "D361R6sMR6yw"
      },
      "source": [
        "##### ChatOpenAI"
      ]
    },
    {
      "cell_type": "markdown",
      "metadata": {
        "id": "HJVQ2Pm8R6yw"
      },
      "source": [
        "Next we have our model, which is converted to a format analagous to libraries like LangChain and LlamaIndex.\n",
        "\n",
        "Let's take a peek at how that is constructed:\n",
        "\n",
        "```python\n",
        "class ChatOpenAI:\n",
        "    def __init__(self, model_name: str = \"gpt-4o-mini\"):\n",
        "        self.model_name = model_name\n",
        "        self.openai_api_key = os.getenv(\"OPENAI_API_KEY\")\n",
        "        if self.openai_api_key is None:\n",
        "            raise ValueError(\"OPENAI_API_KEY is not set\")\n",
        "\n",
        "    def run(self, messages, text_only: bool = True):\n",
        "        if not isinstance(messages, list):\n",
        "            raise ValueError(\"messages must be a list\")\n",
        "\n",
        "        openai.api_key = self.openai_api_key\n",
        "        response = openai.ChatCompletion.create(\n",
        "            model=self.model_name, messages=messages\n",
        "        )\n",
        "\n",
        "        if text_only:\n",
        "            return response.choices[0].message.content\n",
        "\n",
        "        return response\n",
        "```"
      ]
    },
    {
      "cell_type": "markdown",
      "metadata": {
        "id": "qCU7FfhIR6yw"
      },
      "source": [
        "#### ❓ Question #3:\n",
        "\n",
        "When calling the OpenAI API - are there any ways we can achieve more reproducible outputs?\n",
        "\n",
        "> NOTE: Check out [this section](https://platform.openai.com/docs/guides/text-generation/) of the OpenAI documentation for the answer!"
      ]
    },
    {
      "cell_type": "markdown",
      "metadata": {
        "id": "c5wcjMLCR6yw"
      },
      "source": [
        "### Creating and Prompting OpenAI's `gpt-4o-mini`!\n",
        "\n",
        "Let's tie all these together and use it to prompt `gpt-4o-mini`!"
      ]
    },
    {
      "cell_type": "code",
      "execution_count": 17,
      "metadata": {
        "id": "WIfpIot7R6yw"
      },
      "outputs": [],
      "source": [
        "from aimakerspace.openai_utils.prompts import (\n",
        "    UserRolePrompt,\n",
        "    SystemRolePrompt,\n",
        "    AssistantRolePrompt,\n",
        ")\n",
        "\n",
        "from aimakerspace.openai_utils.chatmodel import ChatOpenAI\n",
        "\n",
        "chat_openai = ChatOpenAI()\n",
        "user_prompt_template = \"{content}\"\n",
        "user_role_prompt = UserRolePrompt(user_prompt_template)\n",
        "system_prompt_template = (\n",
        "    \"You are an expert in {expertise}, you always answer in a kind way.\"\n",
        ")\n",
        "system_role_prompt = SystemRolePrompt(system_prompt_template)\n",
        "\n",
        "messages = [\n",
        "    system_role_prompt.create_message(expertise=\"Python\"),\n",
        "    user_role_prompt.create_message(\n",
        "        content=\"What is the best way to learn AI Engineering?\"\n",
        "    ),\n",
        "]\n",
        "\n",
        "response = chat_openai.run(messages)"
      ]
    },
    {
      "cell_type": "code",
      "execution_count": 18,
      "metadata": {
        "colab": {
          "base_uri": "https://localhost:8080/"
        },
        "id": "dHo7lssNR6yw",
        "outputId": "1d3823fa-bb6b-45f6-ddba-b41686388324"
      },
      "outputs": [
        {
          "name": "stdout",
          "output_type": "stream",
          "text": [
            "Learning AI engineering can be an exciting and rewarding journey! Here’s a structured approach you can follow to get started:\n",
            "\n",
            "1. **Understand the Basics of AI**:\n",
            "   - Start with foundational concepts in artificial intelligence, including what AI is, its history, and key terminologies.\n",
            "   - Books like \"Artificial Intelligence: A Guide to Intelligent Systems\" by Michael Negnevitsky can be helpful.\n",
            "\n",
            "2. **Gain Strong Programming Skills**:\n",
            "   - Python is widely used in AI, so proficiency in Python is essential. Ensure you're comfortable with libraries like NumPy, Pandas, and Matplotlib.\n",
            "   - Familiarize yourself with machine learning libraries such as TensorFlow, Keras, and PyTorch.\n",
            "\n",
            "3. **Learn Mathematics and Statistics**:\n",
            "   - A good grasp of linear algebra, calculus, probability, and statistics is crucial for understanding algorithms in AI.\n",
            "   - Online courses or resources like Khan Academy can help reinforce these concepts.\n",
            "\n",
            "4. **Explore Machine Learning**:\n",
            "   - Begin with supervised and unsupervised learning techniques. Understand algorithms such as regression, classification, and clustering.\n",
            "   - Online courses from platforms like Coursera (e.g., Andrew Ng's Machine Learning course) or Udacity can be invaluable.\n",
            "\n",
            "5. **Delve into Deep Learning**:\n",
            "   - Once you're comfortable with machine learning, move to deep learning concepts including neural networks, CNNs, and RNNs.\n",
            "   - Consider books like \"Deep Learning\" by Ian Goodfellow and online courses focused on deep learning.\n",
            "\n",
            "6. **Work on Projects**:\n",
            "   - Apply what you've learned by working on small projects. This could range from building simple models to creating applications using AI.\n",
            "   - Contributing to open-source projects, engaging in Kaggle competitions, or building your portfolio with personal projects can also be very beneficial.\n",
            "\n",
            "7. **Stay Updated with Research**:\n",
            "   - AI is a rapidly evolving field. Reading research papers, following reputable AI blogs, and attending webinars or conferences can keep you informed of new advancements.\n",
            "\n",
            "8. **Networking and Community Engagement**:\n",
            "   - Join AI communities on platforms like GitHub, Stack Overflow, or Reddit. Networking with others can provide support, motivation, and learning opportunities.\n",
            "\n",
            "9. **Consider Formal Education**:\n",
            "   - Depending on your career goals, consider pursuing a relevant degree or certification in AI, computer science, or data science.\n",
            "\n",
            "10. **Practice with Real-World Use Cases**:\n",
            "    - Implement AI solutions for real-world problems where you can collect data, train models, and evaluate performance. This helps in building practical skills.\n",
            "\n",
            "Remember, persistence and continuous learning are key in this field. Good luck on your journey to becoming an AI engineer! If you have any specific questions along the way, feel free to ask!\n"
          ]
        }
      ],
      "source": [
        "print(response)"
      ]
    },
    {
      "cell_type": "markdown",
      "metadata": {
        "id": "r2nxxhB2R6yy"
      },
      "source": [
        "## Task 5: Retrieval Augmented Generation\n",
        "\n",
        "Now we can create a RAG prompt - which will help our system behave in a way that makes sense!\n",
        "\n",
        "There is much you could do here, many tweaks and improvements to be made!"
      ]
    },
    {
      "cell_type": "code",
      "execution_count": 19,
      "metadata": {
        "id": "D1hamzGaR6yy"
      },
      "outputs": [],
      "source": [
        "RAG_PROMPT_TEMPLATE = \"\"\" \\\n",
        "Use the provided context to answer the user's query.\n",
        "\n",
        "You may not answer the user's query unless there is specific context in the following text.\n",
        "\n",
        "If you do not know the answer, or cannot answer, please respond with \"I don't know\".\n",
        "\"\"\"\n",
        "\n",
        "rag_prompt = SystemRolePrompt(RAG_PROMPT_TEMPLATE)\n",
        "\n",
        "USER_PROMPT_TEMPLATE = \"\"\" \\\n",
        "Context:\n",
        "{context}\n",
        "\n",
        "User Query:\n",
        "{user_query}\n",
        "\"\"\"\n",
        "\n",
        "\n",
        "user_prompt = UserRolePrompt(USER_PROMPT_TEMPLATE)\n",
        "\n",
        "class RetrievalAugmentedQAPipeline:\n",
        "    def __init__(self, llm: ChatOpenAI(), vector_db_retriever: VectorDatabase) -> None:\n",
        "        self.llm = llm\n",
        "        self.vector_db_retriever = vector_db_retriever\n",
        "\n",
        "    def run_pipeline(self, user_query: str) -> str:\n",
        "        context_list = self.vector_db_retriever.search_by_text(user_query, k=4)\n",
        "\n",
        "        context_prompt = \"\"\n",
        "        for context in context_list:\n",
        "            context_prompt += context[0] + \"\\n\"\n",
        "\n",
        "        formatted_system_prompt = rag_prompt.create_message()\n",
        "\n",
        "        formatted_user_prompt = user_prompt.create_message(user_query=user_query, context=context_prompt)\n",
        "\n",
        "        return {\"response\" : self.llm.run([formatted_system_prompt, formatted_user_prompt]), \"context\" : context_list}"
      ]
    },
    {
      "cell_type": "markdown",
      "metadata": {
        "id": "zZIJI19uR6yz"
      },
      "source": [
        "#### ❓ Question #4:\n",
        "\n",
        "What prompting strategies could you use to make the LLM have a more thoughtful, detailed response?\n",
        "\n",
        "What is that strategy called?\n",
        "\n",
        "> NOTE: You can look through the Week 1 Day 1 \"Prompting OpenAI Like A Developer\" material for an answer to this question!"
      ]
    },
    {
      "cell_type": "code",
      "execution_count": 20,
      "metadata": {
        "id": "kqbE9fZ6R6yz"
      },
      "outputs": [],
      "source": [
        "retrieval_augmented_qa_pipeline = RetrievalAugmentedQAPipeline(\n",
        "    vector_db_retriever=vector_db,\n",
        "    llm=chat_openai\n",
        ")"
      ]
    },
    {
      "cell_type": "code",
      "execution_count": 21,
      "metadata": {
        "colab": {
          "base_uri": "https://localhost:8080/"
        },
        "id": "jAGhaCGOR6yz",
        "outputId": "e4fb3a1b-d2bc-4e18-ec31-dc0adf767163"
      },
      "outputs": [
        {
          "data": {
            "text/plain": [
              "{'response': \"The 'Michael Eisner Memorial Weak Executive Problem' refers to the tendency of CEOs or startup founders to hire executives who are weak in the function that the CEO is most experienced in. This situation often arises when a CEO, who has a background in a specific area (like product management, sales, or marketing), chooses someone less skilled for that role, inadvertently allowing them to remain in control of the function they excel in. The name is derived from Michael Eisner, the former CEO of Disney, who encountered challenges when he bought ABC and stated he could turn it around if he had more time, highlighting the disconnect between his confidence and the actual management of that domain. This problem can stem from a reluctance to let go of an area of expertise, leading to poor hiring decisions that can negatively impact the organization's performance.\",\n",
              " 'context': [('ordingly.\\nSeventh, when hiring the executive to run your former specialty, be\\ncareful you don’t hire someone weak on purpose.\\nThis sounds silly, but you wouldn’t believe how oaen it happens.\\nThe CEO who used to be a product manager who has a weak\\nproduct management executive. The CEO who used to be in\\nsales who has a weak sales executive. The CEO who used to be\\nin marketing who has a weak marketing executive.\\nI call this the “Michael Eisner Memorial Weak Executive Problem” — aaer the CEO of Disney who had previously been a brilliant TV network executive. When he bought ABC at Disney, it\\npromptly fell to fourth place. His response? “If I had an extra\\ntwo days a week, I could turn around ABC myself.” Well, guess\\nwhat, he didn’t have an extra two days a week.\\nA CEO — or a startup founder — oaen has a hard time letting\\ngo of the function that brought him to the party. The result: you\\nhire someone weak into the executive role for that function so\\nthat you can continue to be “the man” — cons',\n",
              "   np.float64(0.6582387824516002)),\n",
              "  ('m. They have areas where they are truly deXcient in judgment or skill set. That’s just life. Almost nobody is brilliant\\nat everything. When hiring and when Hring executives, you\\nmust therefore focus on strength rather than lack of weakness. Everybody has severe weaknesses even if you can’t see\\nthem yet. When managing, it’s oaen useful to micromanage and\\nto provide remedial training around these weaknesses. Doing so\\nmay make the diWerence between an executive succeeding or\\nfailing.\\nFor example, you might have a brilliant engineering executive\\nwho generates excellent team loyalty, has terriXc product judgment and makes the trains run on time. This same executive\\nmay be very poor at relating to the other functions in the company. She may generate far more than her share of cross-functional conYicts, cut herself oW from critical information, and\\nsigniXcantly impede your ability to sell and market eWectively.\\nYour alternatives are:\\n(a) Macro-manage and give her an annual or quarterly object',\n",
              "   np.float64(0.5088537081849307)),\n",
              "  ('ed?\\nIn reality — as opposed to Marc’s warped view of reality — it will\\nbe extremely helpful for Marc [if he were actually the CEO,\\nwhich he is not] to meet with the new head of engineering daily\\nwhen she comes on board and review all of her thinking and\\ndecisions. This level of micromanagement will accelerate her\\ntraining and improve her long-term eWectiveness. It will make\\nher seem smarter to the rest of the organization which will build\\ncredibility and conXdence while she comes up to speed. Micromanaging new executives is generally a good idea for a limited\\nperiod of time.\\nHowever, that is not the only time that it makes sense to micro66 The Pmarca Blog Archives\\nmanage executives. It turns out that just about every executive\\nin the world has a few things that are seriously wrong with\\nthem. They have areas where they are truly deXcient in judgment or skill set. That’s just life. Almost nobody is brilliant\\nat everything. When hiring and when Hring executives, you\\nmust therefore focus o',\n",
              "   np.float64(0.4790391655930781)),\n",
              "  ('nYicts, cut herself oW from critical information, and\\nsigniXcantly impede your ability to sell and market eWectively.\\nYour alternatives are:\\n(a) Macro-manage and give her an annual or quarterly objective\\nto Xx it, or…\\n(b) Intensively micromanage her interactions until she learns\\nthe fundamental interpersonal skills required to be an eWective\\nexecutive.\\nI am arguing that doing (a) will likely result in weak performance. The reason is that she very likely has no idea how to be\\neWective with her peers. If somebody is an executive, it’s very\\nlikely that somewhere along the line somebody gave her feedback — perhaps abstractly — about all of her weaknesses. Yet\\nthe weakness remains. As a result, executives generally require\\nmore hands-on management than lower level employees to\\nimprove weak areas.\\nSo, micromanagement is like Xne wine. A little at the right times\\nwill really enhance things; too much all the time and you’ll end\\nup in rehab.\\nPart 8: Hiring, managing, promoting, and Dring execut',\n",
              "   np.float64(0.46813893418566344))]}"
            ]
          },
          "execution_count": 21,
          "metadata": {},
          "output_type": "execute_result"
        }
      ],
      "source": [
        "retrieval_augmented_qa_pipeline.run_pipeline(\"What is the 'Michael Eisner Memorial Weak Executive Problem'?\")"
      ]
    },
    {
      "cell_type": "markdown",
      "metadata": {},
      "source": [
        "### 🏗️ Activity #1:\n",
        "\n",
        "Enhance your RAG application in some way! \n",
        "\n",
        "Suggestions are: \n",
        "\n",
        "- Allow it to work with PDF files\n",
        "- Implement a new distance metric\n",
        "- Add metadata support to the vector database\n",
        "\n",
        "While these are suggestions, you should feel free to make whatever augmentations you desire! \n",
        "\n",
        "> NOTE: These additions might require you to work within the `aimakerspace` library - that's expected!"
      ]
    },
    {
      "cell_type": "code",
      "execution_count": null,
      "metadata": {},
      "outputs": [],
      "source": [
        "### YOUR CODE HERE"
      ]
    },
    {
      "cell_type": "code",
      "execution_count": 16,
      "metadata": {},
      "outputs": [
        {
          "name": "stdout",
          "output_type": "stream",
          "text": [
            "Collecting PyPDF2\n",
            "  Using cached pypdf2-3.0.1-py3-none-any.whl.metadata (6.8 kB)\n",
            "Downloading pypdf2-3.0.1-py3-none-any.whl (232 kB)\n",
            "   ---------------------------------------- 0.0/232.6 kB ? eta -:--:--\n",
            "   ----- ---------------------------------- 30.7/232.6 kB ? eta -:--:--\n",
            "   -------- ------------------------------- 51.2/232.6 kB 1.3 MB/s eta 0:00:01\n",
            "   -------------------------- ------------- 153.6/232.6 kB 1.8 MB/s eta 0:00:01\n",
            "   ---------------------------------------- 232.6/232.6 kB 1.8 MB/s eta 0:00:00\n",
            "Installing collected packages: PyPDF2\n",
            "Successfully installed PyPDF2-3.0.1\n"
          ]
        }
      ],
      "source": [
        "! pip install PyPDF2"
      ]
    },
    {
      "cell_type": "code",
      "execution_count": 36,
      "metadata": {},
      "outputs": [],
      "source": [
        "! pip install -qU numpy matplotlib plotly pandas scipy scikit-learn openai python-dotenv"
      ]
    },
    {
      "cell_type": "code",
      "execution_count": 18,
      "metadata": {},
      "outputs": [
        {
          "data": {
            "text/plain": [
              "<PyPDF2._reader.PdfReader at 0x1a3b8197730>"
            ]
          },
          "execution_count": 18,
          "metadata": {},
          "output_type": "execute_result"
        }
      ],
      "source": [
        "pdfreader = PdfReader('D:\\DataTicon\\AI Engineering Bootcamp\\AIE4\\Week 1\\Day 2\\data\\Data Engineering.pdf')\n",
        "pdfreader"
      ]
    },
    {
      "cell_type": "code",
      "execution_count": 19,
      "metadata": {},
      "outputs": [],
      "source": [
        "from typing_extensions import Concatenate\n",
        "# read text from pdf\n",
        "raw_text = ''\n",
        "for i, page in enumerate(pdfreader.pages):\n",
        "    content = page.extract_text()\n",
        "    if content:\n",
        "        raw_text += content"
      ]
    },
    {
      "cell_type": "code",
      "execution_count": 20,
      "metadata": {},
      "outputs": [
        {
          "data": {
            "text/plain": [
              "'All Lesson Combined:  \\nTOPIC 1  \\n \\nLesson 1: What & Why Data Engineering?  \\nObjective:  \\nUnderstand the basics and importance of data engineering.  \\n1. Definition of Data Engineering:  \\nData Engineering involves designing, building, and maintaining systems and architecture that \\nallow for the collection, storage, and analysis of data. It’s about creating the infrastructure that \\ndata scientists and analysts need to perform their tasks effectively.  \\nImagine data engineering as the plumbing system of the data world. Just as a plumber lays \\ndown pipes to ensure water flows smoothly throughout a building, a data engineer sets up data \\npipelines to ensure data flows seamlessly from one place to another. Thi s includes everything \\nfrom extracting data from various sources, transforming it into a usable format, and loading it \\ninto a storage system where it can be easily accessed and analyzed.  \\n2. Importance in Various Industries:  \\nData Engineering is crucial in various industries for several reasons:  \\n• Finance:  \\no Fraud Detection:  By analyzing transaction data, banks can detect unusual \\npatterns that may indicate fraudulent activity.  \\no Risk Management:  Financial institutions use data to assess and manage risk, \\nensuring they can make informed decisions about lending and investments.  \\no Market Analysis:  Data engineering enables the analysis of vast amounts of \\nmarket data to identify trends and make strategic investment decisions.  \\nImagine a bank that needs to process millions of transactions daily. Without proper data \\nengineering, it would be impossible to sift through this data to detect fraud or analyze market \\ntrends in real -time.  \\n• Healthcare:  \\no Patient Care:  Hospitals use data to improve patient care by tracking medical \\nhistories, treatment plans, and outcomes.  \\no Medical Records Management:  Efficient data engineering ensures that patient \\nrecords are accurately maintained and easily accessible.  \\no Operational Efficiency:  Data helps in streamlining hospital operations, from \\nmanaging staff schedules to optimizing the supply chain for medical equipment.  Consider a hospital that uses data from various sources – patient records, lab results, and \\ntreatment plans – to create a comprehensive view of each patient\\'s health. This holistic view \\nenables doctors to make better -informed decisions about patient care.  \\n• Technology:  \\no AI and Machine Learning:  Data engineering provides the large datasets needed \\nto train and deploy AI and machine learning models.  \\no User Experience:  Tech companies use data to understand user behavior and \\nimprove their products and services.  \\no Innovation:  Data drives innovation by enabling companies to identify new \\nopportunities and optimize existing processes.  \\nThink of a tech company developing a new AI -powered recommendation system. Data \\nengineering ensures that the system has access to the vast amounts of data it needs to learn \\nand make accurate recommendations.  \\n3. Support for Data Science, Machine Learning, and Business Intelligence:  \\nData Engineering provides the foundational support for various data -driven domains:  \\n• Data Science:  Supplies clean, structured data for building predictive models.  \\n• Machine Learning:  Facilitates the training and deployment of algorithms by providing \\nlarge datasets.  \\n• Business Intelligence:  Ensures accurate and timely data is available for reporting and \\nstrategic decision -making.  \\nImagine a chef preparing a meal. Before the chef can start cooking, someone needs to gather \\nall the ingredients, clean and prepare them, and ensure everything is organized and ready to \\nuse. In this analogy, the data engineer is the person who prepares and organizes the \\ningredients (data), making it easier for the chef (data scientist) to create a delicious meal \\n(analysis or model).  \\nSummary:  \\nIn this lesson, we introduced the foundational concepts of data engineering, highlighting its \\nsignificance across various industries and its support for data science, machine learning, and \\nbusiness intelligence.  \\n \\nLesson 2: The Role of a Data Engineer  \\nObjective:  \\nLearn about the responsibilities and skills required for a data engineer.  \\n1. Typical Responsibilities of a Data Engineer:  \\nData Engineers play a critical role in managing and optimizing data systems. Their daily tasks \\noften include:  • Data Pipeline Development:  Creating and maintaining data pipelines that automate the \\nprocess of moving data from source systems to data warehouses or data lakes.  \\no Example:  Developing a pipeline that extracts sales data from a company\\'s \\ntransaction system, transforms it into a consistent format, and loads it into a data \\nwarehouse for analysis.  \\n• ETL Processes:  Designing and implementing ETL (Extract, Transform, Load) \\nprocesses to ensure data is accurately and efficiently moved from one system to \\nanother.  \\no Example:  Extracting customer data from multiple sources, cleaning and \\nstandardizing it, and loading it into a centralized database.  \\n• Data Quality Assurance:  Ensuring the data is accurate, complete, and reliable by \\nperforming data validation, cleaning, and profiling.  \\no Example:  Regularly checking data for inconsistencies or missing values and \\nimplementing procedures to correct any issues.  \\n• Database Management:  Setting up and maintaining databases and data storage \\nsolutions, ensuring they are optimized for performance and scalability.  \\no Example:  Configuring a cloud -based data warehouse to store large volumes of \\ndata and ensure fast query performance.  \\n• Collaboration:  Working closely with data scientists, analysts, and other stakeholders to \\nunderstand their data needs and provide the necessary support.  \\no Example:  Collaborating with data scientists to provide clean, preprocessed data \\nfor machine learning model training.  \\n2. Key Skills and Technologies:  \\nData Engineers need a diverse set of skills and familiarity with various technologies, including:  \\n• Programming Languages:  \\no SQL:  Essential for querying and managing databases.  \\no Python:  Widely used for scripting, data manipulation, and building data \\npipelines.  \\no Java/Scala:  Often used for working with big data tools like Apache Spark.  \\n• Data Storage Solutions:  \\no Relational Databases:  Such as MySQL, PostgreSQL, and SQL Server for \\nstructured data.  \\no NoSQL Databases:  Like MongoDB and Cassandra for unstructured or semi -\\nstructured data.  \\no Data Warehouses:  Such as Amazon Redshift, Google BigQuery, and Snowflake \\nfor large -scale data storage and analytics.  \\no Data Lakes:  Using platforms like Apache Hadoop and Amazon S3 for storing \\nraw data in its native format.  \\n• Data Processing Tools:  \\no Apache Spark:  For distributed data processing and large -scale data analytics.  \\no Apache Kafka:  For real -time data streaming and event -driven data pipelines.  \\no ETL Tools:  Such as Talend, Apache NiFi, and Informatica for designing and \\nmanaging ETL processes.  \\n• Cloud Platforms:  \\no AWS (Amazon Web Services):  Offering services like S3 for storage, Redshift \\nfor data warehousing, and EMR for big data processing.  \\no Azure:  With services like Azure Data Lake, Azure SQL Database, and Azure \\nSynapse Analytics.  o GCP (Google Cloud Platform):  Featuring BigQuery for data warehousing, \\nCloud Storage for data lakes, and Dataflow for stream and batch processing.  \\n3. Daily Tasks and Examples:  \\nA day in the life of a data engineer can be quite dynamic, involving various tasks to ensure data \\nsystems are running smoothly and efficiently:  \\n• Morning:  \\no Monitoring Data Pipelines:  Checking the status of overnight ETL jobs, ensuring \\nthey completed successfully without errors.  \\no Example:  Reviewing logs to verify that a nightly data ingestion pipeline \\nprocessed all incoming data correctly.  \\n• Midday:  \\no Collaborating with Teams:  Meeting with data scientists to discuss data \\nrequirements for a new machine learning project.  \\no Example:  Understanding the specific data transformations needed to prepare \\nthe dataset for model training.  \\n• Afternoon:  \\no Developing New Pipelines:  Writing code to create a new data pipeline that \\nintegrates data from a new source system.  \\no Example:  Building a pipeline that extracts social media data, processes it to \\nremove noise, and loads it into a data lake for analysis.  \\n• Evening:  \\no Data Quality Checks:  Running scripts to profile data and identify any quality \\nissues that need to be addressed.  \\no Example:  Identifying missing values in a customer dataset and implementing a \\nprocess to fill in the gaps with appropriate data.  \\nSummary:  \\nIn this lesson, we explored the role of a data engineer, highlighting their typical responsibilities, \\nthe key skills and technologies they use, and examples of their daily tasks. Data engineers are \\nessential in creating and maintaining the infrastructure that enab les organizations to leverage \\ndata for decision -making and innovation.  \\n \\nLesson 3: Key Concepts and Terminologies  \\nObjective:  \\nGet familiar with essential data engineering concepts and terminology.  \\n1. Critical Data Engineering Concepts:  \\nData engineering involves several key concepts that form the foundation of effective data \\nmanagement and processing. Understanding these concepts is crucial for anyone looking to \\nwork in this field.  • Data Ingestion:  \\no Definition:  The process of importing data from various sources into a database \\nor data warehouse.  \\no Example:  Collecting data from transactional systems, sensors, social media, and \\nexternal APIs.  \\no Analogy:  Imagine data ingestion like filling a water tank. The water comes from \\nmultiple streams (data sources), and the tank (database) needs to store it all.  \\n• Data Transformation:  \\no Definition:  The process of converting data from its raw format into a more \\nsuitable format for analysis.  \\no Example:  Cleaning data, removing duplicates, standardizing formats, and \\nenriching data with additional information.  \\no Analogy:  Think of data transformation like making a smoothie. You take raw \\ningredients (data), blend them together to create a consistent mixture, and add \\nany necessary enhancements (enrichments).  \\n• Data Storage:  \\no Definition:  Storing data in a structured and organized manner to facilitate easy \\naccess and analysis.  \\no Example:  Using relational databases, NoSQL databases, data warehouses, and \\ndata lakes.  \\no Analogy:  Data storage is like organizing a library. Books (data) are categorized \\nand shelved in a way that makes them easy to find and use.  \\n• Data Governance:  \\no Definition:  Establishing policies and procedures to ensure data quality, security, \\nand compliance.  \\no Example:  Implementing access controls, data encryption, and data quality \\nchecks.  \\no Analogy:  Data governance is like managing a bank. It involves setting rules and \\nprotocols to ensure that money (data) is handled securely, accurately, and \\naccording to regulations.  \\n• Data Security:  \\no Definition:  Protecting data from unauthorized access, breaches, and other \\nsecurity threats.  \\no Example:  Using encryption, firewalls, and secure access controls.  \\no Analogy:  Data security is like installing a security system in your house. It \\nensures that valuable possessions (data) are protected from theft or damage.  \\n2. Explanation of Key Terminologies:  \\nUnderstanding the terminology used in data engineering is essential for effective communication \\nand collaboration within the field.  \\n• ETL (Extract, Transform, Load):  \\no Definition:  A process that involves extracting data from source systems, \\ntransforming it into a usable format, and loading it into a destination system.  \\no Example:  Extracting sales data from a transactional system, cleaning and \\nstandardizing it, and loading it into a data warehouse for analysis.  \\no Analogy:  ETL is like making a smoothie. You extract ingredients (data) from \\ndifferent places, blend them together (transform), and pour the smoothie into a \\nglass (load).  \\n• ELT:  o Definition:  A process that involves extracting data from source systems, \\ntransforming it into a usable format, and loading it into a destination system.  \\no Example:  Extracting sales data from a transactional system, cleaning and \\nstandardizing it, and loading it into a data warehouse for analysis.  \\no Analogy:  ETL is like baking a cake. You collect the ingredients (extract), mix and \\nbake them according to the recipe (transform), and then place the finished cake \\non a serving plate (load).  \\n• Data Warehouse:  \\no Definition:  A centralized repository where data is stored for analysis and \\nreporting.  \\no Example:  Using Amazon Redshift to store and analyze large volumes of \\nstructured data.  \\no Analogy:  A data warehouse is like a library. It stores vast amounts of information \\n(data) organized in a way that makes it easy to find and use.  \\n• Data Lake:  \\no Definition:  A storage system that holds a large amount of raw data in its native \\nformat until it is needed.  \\no Example:  Using Amazon S3 to store raw log files, images, and other \\nunstructured data.  \\no Analogy:  A data lake is like a large storage room. It keeps everything as it is \\nuntil someone comes in to organize and use the items.  \\n• Real -Time Processing:  \\no Definition:  Processing data as it arrives, enabling immediate analysis and \\naction.  \\no Example:  Using Apache Kafka to process streaming data from IoT devices in \\nreal-time.  \\no Analogy:  Real-time processing is like live broadcasting. Data is captured and \\nprocessed instantly, allowing for immediate viewing and response.  \\n• Batch Processing:  \\no Definition:  A method of processing data where transactions are collected over a \\nperiod of time and processed together in a single batch.  \\no Example:  Using Apache Hadoop to process large volumes of log files overnight.  \\no Analogy:  Batch processing is like doing laundry. You gather dirty clothes over \\ntime (collect transactions), and then wash them all at once in a single load \\n(process the batch).  \\n• Full Load:  with a full load, the entire dataset is dumped, or loaded, and is then \\ncompletely replaced (i.e. deleted and replaced) with the new, updated dataset. \\nNo additional information, such as timestamps, is required. For example, take a \\nstore that uploads all of its sales through the ETL process in data warehouse at \\nthe end of each day. Let’s say 5 sales were made on a Monday, so that on \\nMonday night a table of 5 records would be uploaded. Then, on Tuesday, \\nanother 3 s ales were made which need to be added. So on Tuesday night, assuming a full load, Monday’s 5 records as well as Tuesday’s 3 records are \\nuploaded – an inefficient system, although relatively easy to set up and maintain. \\nWhile this example is overly simplified, the principle is the same.  \\n \\n• Incremental load:  only the difference between the target and source data is \\nloaded through the ETL process in data warehouse. There are 2 types of \\nincremental loads, depending on the volume of data you’re loading: streaming \\nincremental load and batch incremental load.  Following the previous example, \\nthe store that made 3 sales on Tuesday will load only the additional 3 records to \\nthe sales table, instead of reloading all records. This has the advantage of saving \\ntime and resources but increases complexity.  Incremental loading is of course \\nmuch faster than a full load. The main drawback to this type of loading is \\nmaintainability. Unlike a full load, with an incremental load you can’t re -run the \\nentire load if there’s an error. In addition to this, files need to be loaded in order, \\nso errors will compound the issue as other data queues up.  \\nSummary:  \\nIn this lesson, we explored essential data engineering concepts and terminologies, including \\ndata ingestion, transformation, storage, governance, and security. We also explained key terms \\nsuch as ETL, data pipelines, data warehouses, data lakes, and real -time processing. \\nUnderstanding these concepts and terminologies is crucial for anyone working in the field of \\ndata engineering, as they form the foundation of effective data management and processing.  \\n TOPIC 2  \\nToday, we\\'ll explore how data flows through a modern data system, examining the key \\ncomponents and their interactions. We\\'ll also touch on the undercurrents that influence every \\nstage of this process.  \\nI. The Core Pipeline  \\nLet\\'s start with the heart of our lifecycle: the core pipeline.  \\n1. Generation: Our journey begins with data generation. This is where data is born, \\noriginating from various sources such as user interactions, IoT devices, or business \\ntransactions. Think of this as the wellspring of our data river.  \\n2. Ingestion: As our data flows from its source, it enters the ingestion phase. Here, we \\ncollect and import the raw data into our system. It\\'s like a giant funnel, gathering \\ninformation from multiple sources and preparing it for the next stage.  \\n3. Storage: Once ingested, our data needs a home. The storage layer acts as a vast reservoir, \\nholding both raw and processed data. This could be a data lake, a data warehouse, or a \\ncombination of storage solutions.  \\n4. Transformation: Now comes the alchemical stage of our journey. In the transformation \\nphase, raw data is refined and restructured. We clean it, enrich it, and shape it into a form \\nthat\\'s useful for analysis. It\\'s like turning ore into gold.  \\n5. Serving: With our data transformed, it\\'s time to serve it up. The serving layer makes our \\nprocessed data available for consumption. It\\'s the distribution center, packaging our data \\nproducts for various uses.  \\nII. Advanced Use Cases  \\nFrom our serving layer, data flows into three key advanced use cases:  \\n1. Analytics: Here, our data powers business intelligence, generating insights that drive \\ndecision -making. It\\'s where we answer questions and uncover trends.  \\n2. Machine Learning: Our refined data becomes the fuel for predictive models. In this stage, \\nwe\\'re not just understanding the past, but predicting the future.  \\n3. Reverse ETL: This is a fascinating newer concept. Reverse ETL takes our insights and \\npredictions and feeds them back into operational systems. It\\'s closing the loop, allowing \\nour data -driven insights to directly influence business processes.  \\nIII. The Undercurrents  \\nFlowing beneath our visible pipeline are six critical undercurrents. These influence every stage \\nof our lifecycle:  \\n1. Security: Ensuring our data remains protected and compliant at all times.  \\n2. Data Management: Overseeing the quality, metadata, and governance of our data.  3. DataOps: Applying DevOps principles to create efficient, automated data workflows.  \\n4. Data Architecture: Designing the overall structure of our data systems.  \\n5. Orchestration: Coordinating and scheduling our various data processes.  \\n6. Software Engineering: Applying robust development practices to our data engineering \\ntasks.  \\nConclusion: The Data Engineering Lifecycle is a complex, interconnected system. Each \\ncomponent builds upon the last, creating a flowing river of data that powers our modern, data -\\ndriven world. The undercurrents ensure this river flows smoothly, securely, a nd efficiently.  \\nAs we progress through this course, we\\'ll dive deeper into each of these components, exploring \\nadvanced concepts and practical applications. Remember, in the world of data engineering, \\neverything is connected. Understanding these connections is key to mast ering the field.  \\nTOPIC 3  \\nLesson 1: What is Data Quality and Why is it Important?  \\nObjective:  \\nUnderstand the concept of data quality and its significance in data engineering.  \\n1. Definition of Data Quality:  \\nData quality refers to the condition of a dataset that determines its fitness to serve its purpose in \\na given context. High -quality data is accurate, complete, reliable, and relevant.  \\nDimensions of Data Quality:  \\n• Accuracy:  Data accurately reflects the real -world entities or values it represents. \\nThis means there are no errors, distortions, or misrepresentations in the data, \\nensuring that it can be reliably used for decision -making and analysis.  \\n• Completeness:  All necessary data is available without any missing elements. \\nThis ensures that the dataset contains all required information, which is crucial \\nfor comprehensive analysis and reporting. Incomplete data can lead to incorrect \\nconclusions and decisions.  \\n• Consistency:  Data remains uniform across different systems and formats, \\nmaintaining harmony in how information is presented and interpreted. Consistent \\ndata ensures that information is reliable and can be cross -referenced accurately, \\nreducing the risk of discrepancies.  • Timeliness:  Data is up -to-date and available when needed. Timely data means \\nthat the information reflects the most current state of affairs, which is essential for \\nmaking relevant and accurate decisions. Outdated data can lead to missed \\nopportunities and incorrect ass essments.  \\n• Validity:  Data conforms to the defined formats, rules, and standards. Valid data \\nensures that the information is in the correct format and follows established \\nguidelines, making it usable and reliable. Invalid data can lead to errors in \\nprocessing and interpretation . \\n• Uniqueness:  Data is free from duplicates, ensuring that each piece of information \\nis distinct. Unique data prevents redundancy and ensures that every entry is only \\nrecorded once. This is crucial for maintaining the integrity and efficiency of the \\ndatabase, as duplicat es can lead to confusion and inefficiency.  \\n2. The Impact of Poor Data Quality:  \\nOn Business Decisions:  \\nPoor data quality can lead to incorrect business decisions, resulting in financial losses, missed \\nopportunities, and reduced competitiveness.  \\nOn Operations:  \\nOperational inefficiencies can arise from using poor -quality data, leading to increased costs, \\ncustomer dissatisfaction, and compliance issues.  \\nExamples of Data Quality Issues and Their Consequences:  \\n• Inaccurate Customer Data:  Leads to incorrect targeting in marketing campaigns, \\nresulting in wasted resources and reduced ROI.  \\n• Incomplete Financial Data:  Causes errors in financial reporting and decision -making, \\npotentially leading to regulatory penalties.  \\n• Inconsistent Product Data:  Results in supply chain inefficiencies and poor inventory \\nmanagement.  \\n3. Importance of Data Quality in Data Engineering:  \\nEnsuring Reliable Analytics:  \\nHigh-quality data is essential for accurate analytics, machine learning models, and business \\nintelligence. Reliable data leads to trustworthy insights and better decision -making.  Maintaining Data Integrity:  \\nEnsuring data quality helps maintain the integrity of data systems, preventing errors and \\ninconsistencies that can compromise data reliability.  \\nEnhancing Customer Trust:  \\nProviding high -quality data builds customer trust, as accurate and reliable information is critical \\nfor customer satisfaction and loyalty.  \\nSummary:  \\nIn this lesson, we explored the concept of data quality, its dimensions, and its significance in \\ndata engineering. We discussed the impact of poor data quality on business decisions and \\noperations and highlighted the importance of ensuring high -quality dat a for reliable analytics, \\ndata integrity, and customer trust.  \\n \\nLesson 2: Ensuring Data Quality: Techniques and Tools  \\nObjective:  \\nLearn about various techniques and tools used to ensure data quality.  \\n1. Data Profiling:  \\nDefinition and Purpose:  \\nData profiling involves analyzing data to understand its structure, content, and quality. It helps \\nidentify data quality issues and understand the characteristics of the dataset.  \\nTools for Data Profiling:  \\n• Power BI : allows you to analyze data quality through features like column statistics and \\ndistribution visualizations within the Power Query Editor.  \\n• Informatica Data Quality:  Offers comprehensive data profiling capabilities to identify \\ndata anomalies and inconsistencies.  \\n2. Data Cleansing:  \\nTechniques for Cleaning Data:  \\n• Removing Duplicates:  Identifying and eliminating duplicate records to ensure \\nuniqueness.  \\n• Correcting Errors:  Fixing inaccuracies, such as typos or incorrect values.  \\n• Standardizing Formats:  Ensuring data conforms to a consistent format (e.g., date \\nformats, address formats).  3. Data Validation:  \\nImportance of Validating Data:  \\nData validation ensures that data meets defined standards and business rules before it is used \\nin analysis or decision -making.  \\nTechniques for Data Validation:  \\n• Constraints:  Enforcing rules, such as unique keys or mandatory fields, to ensure data \\nvalidity.  \\n• Rules:  Applying business rules to check for logical consistency (e.g., order date must be \\nbefore delivery date).  \\n4. Data Monitoring:  \\nOngoing Monitoring for Data Quality:  \\nContinuous monitoring helps detect data quality issues in real -time, allowing for immediate \\ncorrective actions.  \\nTools for Data Monitoring:  \\n• Monte Carlo:  A data observability platform for monitoring data quality and reliability.  \\n• Datafold:  Provides data monitoring and validation capabilities to ensure data accuracy \\nand consistency.  \\nSummary:  \\nIn this lesson, we explored various techniques and tools used to ensure data quality, including \\ndata profiling, data cleansing, data validation, and data monitoring. Understanding and applying \\nthese techniques is crucial for maintaining high -quality data t hat supports reliable analytics and \\ninformed decision -making.  \\nTOPIC 4  \\nLesson 1: Introduction to Data Warehousing  \\nObjective:  \\nUnderstand the fundamentals of data warehousing.  \\n1. Definition of a Data Warehouse:  \\nA data warehouse is a centralized repository designed to store large volumes of structured data \\nfrom multiple sources. It\\'s like a giant organized archive specifically built for analyzing \\ninformation. This information helps with business intelligence (BI) activities, such as uncovering \\ntrends, generating reports, and making data -driven decisions . Key Characteristics:  \\n• Optimized for Querying and Analysis:  Think of it like a giant filing cabinet \\nspecifically designed for easy searching and analysis.  \\n• Integrated:  Data from various sources is brought together and organized \\nconsistently.  \\n• Subject-Oriented:  Focused on specific business topics, like sales or customer \\ndata.  \\n• Non-Volatile:  Data is not deleted or overwritten, allowing you to track changes over \\ntime.  \\n• Time-Variant: Includes historical data alongside current information for trend \\nanalysis.  \\n• Designed for Decision Support:  Provides insights to inform better business \\nchoices.  \\n3. Benefits of Using Data Warehouses:  \\nImproved Data Quality:  \\nData warehouses consolidate data from various sources, apply data cleansing processes, and \\nensure data consistency and accuracy.  \\nEnhanced Performance:  \\nData warehouses are optimized for read -heavy operations, enabling fast query performance \\nand reducing the load on transactional systems.  \\nHistorical Insights:  \\nStoring historical data allows organizations to analyze trends, perform time -series analysis, and \\ngenerate forecasts.  \\nScalability:  \\nData warehouses are designed to handle large volumes of data, making them suitable for \\ngrowing data needs.  \\nAdvanced Analytics:  \\nSupports complex queries, data mining, machine learning, and other advanced analytics \\ntechniques.  \\nSummary:  \\nIn this lesson, we introduced the concept of data warehousing, explaining its definition, role in \\ndata engineering, and benefits. Data warehouses are essential for integrating data from multiple sources, ensuring data quality, enhancing performance, providing historical insights, and \\nsupporting advanced analytics.  \\n \\nLesson 2: Data Warehousing Architectures  \\nObjective:  \\nLearn about different data warehousing architectures.  \\n \\nSimilarities and Key Differences: Databases vs. Data Warehouses  \\nWhile both store data, databases and data warehouses have distinct purposes. Databases manage \\ndata for various day -to-day transactions, like an ATM system. Data warehouses, on the other \\nhand, handle large -scale data analysis. They store historical information for com plex analytical \\nqueries, unlike databases that focus on real -time data.  \\nData Warehouse Structure: Three Layers Working Together  \\nA data warehouse typically has a three -tier architecture:  \\n• Bottom Tier:  The foundation, usually a relational database system. Data is cleansed, \\ntransformed, and loaded here using back -end tools.  \\n• Middle Tier:  \\u202f The Middle Tier  features an OLAP server that facilitates rapid \\nquery processing. Within this tier, three distinct types of OLAP models are \\nutilized - ROLAP, MOLAP, and HOLAP. The type of database system that is being \\nused will determine which OLAP model is best.  \\n• Top Tier:  The user interface, where you access information. It provides tools for \\nquerying, analyzing, reporting, and data mining.  \\nHow Data Warehouses Function: Integration and Analysis  \\nData warehouses bring together information from various sources into a single, unified database. \\nImagine combining customer data from sales systems, mailing lists, websites, and feedback \\nforms. It can even hold confidential employee data. Businesses levera ge this combined data to \\ngain customer insights.  \\nData mining is a powerful feature of data warehouses. It involves sifting through vast amounts of \\ndata to discover hidden patterns and trends. Businesses can then use these insights to develop \\nstrategies that boost sales and profits.  \\nTypes of Data Warehouses: Different Solutions for Different Needs  \\nThere are three main types of data warehouses:  • Enterprise Data Warehouse (EDW):  This centralized data hub provides crucial \\ninformation for decision -making across the entire organization. It offers a unified view of \\ndata, allowing for cross -departmental analysis and complex queries.  \\n• Operational Data Store (ODS):  This warehouse refreshes data in real -time, making it \\nsuitable for operational tasks like managing employee records. It\\'s used when data \\nwarehouses can\\'t meet a company\\'s reporting needs.  \\n• Data Mart:  This is a focused subset of a data warehouse, catering to a specific \\ndepartment, region, or business unit. Each department might have its own data mart to \\nstore relevant data. Information from data marts is periodically uploaded to the ODS, \\nwhich then fee ds it into the EDW for long -term storage and analysis.  \\nSUMMARY:  \\nData warehouses, unlike databases, analyze historical data for trends. Their layered \\nstructure cleanses, stores, and analyzes data. Businesses can combine information from \\nvarious sources and use data mining to find hidden patterns. There are different \\narchitectures for enterprise -wide insights, real -time tasks, and specific depart ments. \\nUnderstanding these helps businesses choose the right tool to unlock data\\'s potential.  \\n \\nLesson 3: Data Warehouse Modeling  \\nObjective: By the end of this lesson, you will understand the fundamental concepts of data \\nwarehouse modeling, including dimensions, facts, and common schema types. You\\'ll learn how \\nto design effective data structures for analysis and reporting.  \\n1. Introduction to Dimensional Modeling  \\nDimensional modeling is a design technique specifically tailored for data warehouses. Its \\nprimary goal is to present data in a standard, intuitive framework that allows for high -\\nperformance access. Unlike normalized data models used in transactional system s, dimensional \\nmodels are optimized for data retrieval and analysis.  \\nThe core principle of dimensional modeling is to structure data around business processes and \\ntheir measurements. This approach results in a model that\\'s both easy for business users to \\nunderstand and efficient for query performance.  \\n2. Facts: The Measure of Business Processes  \\nFacts are the quantitative or measurable data in a business process. They represent what we\\'re \\nanalyzing or measuring.  \\nKey Characteristics of Facts:  \\n• Numeric values that can be aggregated (summed, averaged, etc.)  • Represent business measurements or metrics  \\n• Often additive across multiple dimensions  \\nExamples of Facts:  \\n• Sales amount  \\n• Quantity sold  \\n• Profit  \\n• Number of website visits  \\n• Customer service call duration  \\nFacts are typically stored in fact tables, which form the center of our dimensional model.  \\n3. Dimensions: The Context of Business Processes  \\nDimensions provide the context to facts. They are the \"who, what, where, when, why, and how\" \\nof a business process.  \\nKey Characteristics of Dimensions:  \\n• Descriptive attributes that allow for filtering and grouping  \\n• Provide the context for analyzing facts  \\n• Often hierarchical in nature  \\nExamples of Dimensions:  \\n• Date (with hierarchies like Year > Quarter > Month > Day)  \\n• Product (with hierarchies like Category > Subcategory > Product)  \\n• Customer (with attributes like Name, Age, Location)  \\n• Store Location (with hierarchies like Country > State > City)  \\nDimensions are stored in dimension tables, which surround and connect to the fact table.  \\n4. Star Schema: The Fundamental Dimensional Model  \\nThe Star Schema is the most basic and widely used dimensional model.  \\nStructure:  \\n• A central fact table connected directly to multiple dimension tables  \\n• Resembles a star shape, hence the name  \\nCharacteristics:  \\n• Simple and intuitive design  \\n• Faster query performance due to fewer joins  • Dimension tables are denormalized (redundant data allowed)  \\nExample of a Star Schema for a Sales data warehouse: [Insert visual representation of a star \\nschema with a central \"Sales Fact\" table connected to \"Date\", \"Product\", \"Customer\", and \\n\"Store\" dimension tables]  \\n5. Snowflake Schema: A Normalized Variation  \\nThe Snowflake Schema is a variation of the star schema where dimension tables are normalized \\ninto multiple related tables.  \\nStructure:  \\n• Similar to  star schema, but dimension tables are split into multiple tables  \\n• Resembles a snowflake shape  \\nCharacteristics:  \\n• Reduces data redundancy through normalization  \\n• More complex queries due to additional joins  \\n• Can be more difficult to understand and maintain  \\nExample of a Snowflake Schema for the same Sales data warehouse: [Insert visual representation \\nof a snowflake schema, expanding on the star schema by normalizing dimensions like \"Product\" \\ninto separate \"Category\" and \"Subcategory\" tables]  \\n6. Choosing Between Star and Snowflake Schemas  \\nThe choice between star and snowflake schemas depends on various factors:  \\nStar Schema Benefits:  \\n• Simpler queries and faster performance  \\n• Easier for business users to understand  \\n• Better suited for OLAP cubes  \\nSnowflake Schema Benefits:  \\n• Saves storage space through normalization  \\n• Easier to maintain dimension hierarchies  \\n• Better data integrity due to normalization  \\nIn practice, many data warehouses use a hybrid approach, snowflaking only the dimensions \\nwhere it provides significant benefits.  \\nSummary:  Dimensional modeling is a crucial skill for effective data warehouse design. By understanding \\nfacts, dimensions, and schema types, you can create data structures that balance performance, \\nusability, and maintainability. The choice between star and snowflak e schemas  ensures that your \\ndata warehouse can provide accurate, historical analysis to support business decision -making.  \\nTOPIC 5 \\n \\nConceptualizing the Data pipeline process, with a study case of a “something” industry. \\nFrom Data Ingestion, To Pass Data Quality check, using ETL tools. No deep dive yet, just a \\ndemo of how it works, practices.  \\n \\nWill deep dive in the next course which is a comprehensive study case and implementation \\nand understand the tools.  '"
            ]
          },
          "execution_count": 20,
          "metadata": {},
          "output_type": "execute_result"
        }
      ],
      "source": [
        "raw_text"
      ]
    },
    {
      "cell_type": "code",
      "execution_count": 22,
      "metadata": {},
      "outputs": [],
      "source": [
        "! pip install -qU numpy matplotlib plotly pandas scipy scikit-learn openai python-dotenv PyPDF2"
      ]
    },
    {
      "cell_type": "code",
      "execution_count": null,
      "metadata": {},
      "outputs": [],
      "source": []
    }
  ],
  "metadata": {
    "colab": {
      "provenance": []
    },
    "kernelspec": {
      "display_name": "buildyourownlangchain",
      "language": "python",
      "name": "python3"
    },
    "language_info": {
      "codemirror_mode": {
        "name": "ipython",
        "version": 3
      },
      "file_extension": ".py",
      "mimetype": "text/x-python",
      "name": "python",
      "nbconvert_exporter": "python",
      "pygments_lexer": "ipython3",
      "version": "3.10.0"
    },
    "orig_nbformat": 4,
    "widgets": {
      "application/vnd.jupyter.widget-state+json": {
        "1ce393d9afcf427d9d352259c5d32678": {
          "model_module": "@jupyter-widgets/controls",
          "model_module_version": "1.5.0",
          "model_name": "FloatProgressModel",
          "state": {
            "_dom_classes": [],
            "_model_module": "@jupyter-widgets/controls",
            "_model_module_version": "1.5.0",
            "_model_name": "FloatProgressModel",
            "_view_count": null,
            "_view_module": "@jupyter-widgets/controls",
            "_view_module_version": "1.5.0",
            "_view_name": "ProgressView",
            "bar_style": "",
            "description": "",
            "description_tooltip": null,
            "layout": "IPY_MODEL_4e6efd99f7d346e485b002fb0fa85cc7",
            "max": 1,
            "min": 0,
            "orientation": "horizontal",
            "style": "IPY_MODEL_3dfb67c39958461da6071e4c19c3fa41",
            "value": 1
          }
        },
        "3a4ba348cb004f8ab7b2b1395539c81b": {
          "model_module": "@jupyter-widgets/controls",
          "model_module_version": "1.5.0",
          "model_name": "LabelModel",
          "state": {
            "_dom_classes": [],
            "_model_module": "@jupyter-widgets/controls",
            "_model_module_version": "1.5.0",
            "_model_name": "LabelModel",
            "_view_count": null,
            "_view_module": "@jupyter-widgets/controls",
            "_view_module_version": "1.5.0",
            "_view_name": "LabelView",
            "description": "",
            "description_tooltip": null,
            "layout": "IPY_MODEL_d2ea5009dd16442cb5d8a0ac468e50a8",
            "placeholder": "​",
            "style": "IPY_MODEL_5f00135fe1044051a50ee5e841cbb8e3",
            "value": "0.018 MB of 0.018 MB uploaded\r"
          }
        },
        "3dfb67c39958461da6071e4c19c3fa41": {
          "model_module": "@jupyter-widgets/controls",
          "model_module_version": "1.5.0",
          "model_name": "ProgressStyleModel",
          "state": {
            "_model_module": "@jupyter-widgets/controls",
            "_model_module_version": "1.5.0",
            "_model_name": "ProgressStyleModel",
            "_view_count": null,
            "_view_module": "@jupyter-widgets/base",
            "_view_module_version": "1.2.0",
            "_view_name": "StyleView",
            "bar_color": null,
            "description_width": ""
          }
        },
        "4e6efd99f7d346e485b002fb0fa85cc7": {
          "model_module": "@jupyter-widgets/base",
          "model_module_version": "1.2.0",
          "model_name": "LayoutModel",
          "state": {
            "_model_module": "@jupyter-widgets/base",
            "_model_module_version": "1.2.0",
            "_model_name": "LayoutModel",
            "_view_count": null,
            "_view_module": "@jupyter-widgets/base",
            "_view_module_version": "1.2.0",
            "_view_name": "LayoutView",
            "align_content": null,
            "align_items": null,
            "align_self": null,
            "border": null,
            "bottom": null,
            "display": null,
            "flex": null,
            "flex_flow": null,
            "grid_area": null,
            "grid_auto_columns": null,
            "grid_auto_flow": null,
            "grid_auto_rows": null,
            "grid_column": null,
            "grid_gap": null,
            "grid_row": null,
            "grid_template_areas": null,
            "grid_template_columns": null,
            "grid_template_rows": null,
            "height": null,
            "justify_content": null,
            "justify_items": null,
            "left": null,
            "margin": null,
            "max_height": null,
            "max_width": null,
            "min_height": null,
            "min_width": null,
            "object_fit": null,
            "object_position": null,
            "order": null,
            "overflow": null,
            "overflow_x": null,
            "overflow_y": null,
            "padding": null,
            "right": null,
            "top": null,
            "visibility": null,
            "width": null
          }
        },
        "56a8e24025594e5e9ff3b8581c344691": {
          "model_module": "@jupyter-widgets/base",
          "model_module_version": "1.2.0",
          "model_name": "LayoutModel",
          "state": {
            "_model_module": "@jupyter-widgets/base",
            "_model_module_version": "1.2.0",
            "_model_name": "LayoutModel",
            "_view_count": null,
            "_view_module": "@jupyter-widgets/base",
            "_view_module_version": "1.2.0",
            "_view_name": "LayoutView",
            "align_content": null,
            "align_items": null,
            "align_self": null,
            "border": null,
            "bottom": null,
            "display": null,
            "flex": null,
            "flex_flow": null,
            "grid_area": null,
            "grid_auto_columns": null,
            "grid_auto_flow": null,
            "grid_auto_rows": null,
            "grid_column": null,
            "grid_gap": null,
            "grid_row": null,
            "grid_template_areas": null,
            "grid_template_columns": null,
            "grid_template_rows": null,
            "height": null,
            "justify_content": null,
            "justify_items": null,
            "left": null,
            "margin": null,
            "max_height": null,
            "max_width": null,
            "min_height": null,
            "min_width": null,
            "object_fit": null,
            "object_position": null,
            "order": null,
            "overflow": null,
            "overflow_x": null,
            "overflow_y": null,
            "padding": null,
            "right": null,
            "top": null,
            "visibility": null,
            "width": null
          }
        },
        "5f00135fe1044051a50ee5e841cbb8e3": {
          "model_module": "@jupyter-widgets/controls",
          "model_module_version": "1.5.0",
          "model_name": "DescriptionStyleModel",
          "state": {
            "_model_module": "@jupyter-widgets/controls",
            "_model_module_version": "1.5.0",
            "_model_name": "DescriptionStyleModel",
            "_view_count": null,
            "_view_module": "@jupyter-widgets/base",
            "_view_module_version": "1.2.0",
            "_view_name": "StyleView",
            "description_width": ""
          }
        },
        "bb904e05ece143c79ecc4f20de482f45": {
          "model_module": "@jupyter-widgets/controls",
          "model_module_version": "1.5.0",
          "model_name": "VBoxModel",
          "state": {
            "_dom_classes": [],
            "_model_module": "@jupyter-widgets/controls",
            "_model_module_version": "1.5.0",
            "_model_name": "VBoxModel",
            "_view_count": null,
            "_view_module": "@jupyter-widgets/controls",
            "_view_module_version": "1.5.0",
            "_view_name": "VBoxView",
            "box_style": "",
            "children": [
              "IPY_MODEL_3a4ba348cb004f8ab7b2b1395539c81b",
              "IPY_MODEL_1ce393d9afcf427d9d352259c5d32678"
            ],
            "layout": "IPY_MODEL_56a8e24025594e5e9ff3b8581c344691"
          }
        },
        "d2ea5009dd16442cb5d8a0ac468e50a8": {
          "model_module": "@jupyter-widgets/base",
          "model_module_version": "1.2.0",
          "model_name": "LayoutModel",
          "state": {
            "_model_module": "@jupyter-widgets/base",
            "_model_module_version": "1.2.0",
            "_model_name": "LayoutModel",
            "_view_count": null,
            "_view_module": "@jupyter-widgets/base",
            "_view_module_version": "1.2.0",
            "_view_name": "LayoutView",
            "align_content": null,
            "align_items": null,
            "align_self": null,
            "border": null,
            "bottom": null,
            "display": null,
            "flex": null,
            "flex_flow": null,
            "grid_area": null,
            "grid_auto_columns": null,
            "grid_auto_flow": null,
            "grid_auto_rows": null,
            "grid_column": null,
            "grid_gap": null,
            "grid_row": null,
            "grid_template_areas": null,
            "grid_template_columns": null,
            "grid_template_rows": null,
            "height": null,
            "justify_content": null,
            "justify_items": null,
            "left": null,
            "margin": null,
            "max_height": null,
            "max_width": null,
            "min_height": null,
            "min_width": null,
            "object_fit": null,
            "object_position": null,
            "order": null,
            "overflow": null,
            "overflow_x": null,
            "overflow_y": null,
            "padding": null,
            "right": null,
            "top": null,
            "visibility": null,
            "width": null
          }
        }
      }
    }
  },
  "nbformat": 4,
  "nbformat_minor": 0
}
